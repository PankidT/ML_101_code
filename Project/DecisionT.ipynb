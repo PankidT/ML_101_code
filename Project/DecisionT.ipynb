{
 "cells": [
  {
   "cell_type": "code",
   "execution_count": 10,
   "metadata": {},
   "outputs": [],
   "source": [
    "from DecisionT import DecisionTree\n",
    "import pandas as pd\n",
    "import numpy as np\n",
    "from sklearn.model_selection import train_test_split"
   ]
  },
  {
   "cell_type": "code",
   "execution_count": 5,
   "metadata": {},
   "outputs": [
    {
     "name": "stdout",
     "output_type": "stream",
     "text": [
      "Index(['self_esteem', 'mental_health_history', 'depression', 'headache',\n",
      "       'blood_pressure', 'sleep_quality', 'breathing_problem', 'noise_level',\n",
      "       'living_conditions', 'safety', 'basic_needs', 'academic_performance',\n",
      "       'study_load', 'teacher_student_relationship', 'future_career_concerns',\n",
      "       'social_support', 'peer_pressure', 'extracurricular_activities',\n",
      "       'bullying', 'stress_level'],\n",
      "      dtype='object')\n"
     ]
    }
   ],
   "source": [
    "df = pd.read_csv('StressLevelDataset.csv')\n",
    "\n",
    "X = df.drop('mental_health_history', axis=1).values\n",
    "Y = df['mental_health_history'].values\n",
    "\n",
    "features = df.columns[1:]\n",
    "print(features)"
   ]
  },
  {
   "cell_type": "code",
   "execution_count": 6,
   "metadata": {},
   "outputs": [],
   "source": [
    "X_train, X_test, Y_train, Y_test = train_test_split(X, Y, test_size=0.2)"
   ]
  },
  {
   "cell_type": "markdown",
   "metadata": {},
   "source": [
    "## training process"
   ]
  },
  {
   "cell_type": "code",
   "execution_count": 7,
   "metadata": {},
   "outputs": [],
   "source": [
    "clf = DecisionTree(max_depth=10)\n",
    "clf.fit(X_train, Y_train)"
   ]
  },
  {
   "cell_type": "code",
   "execution_count": 8,
   "metadata": {},
   "outputs": [
    {
     "name": "stdout",
     "output_type": "stream",
     "text": [
      "[1 1 1 0 0 0 0 0 0 1 0 0 0 0 0 1 1 1 0 0 1 0 1 0 0 1 0 1 0 1 1 0 0 0 1 1 0\n",
      " 0 0 0 1 1 1 0 1 1 1 0 0 0 1 1 0 0 0 1 0 1 1 0 1 1 1 1 1 0 1 0 0 1 0 0 0 0\n",
      " 0 0 1 1 0 1 0 0 1 0 1 0 0 0 1 0 1 0 0 1 1 1 0 1 0 1 1 1 0 1 0 1 1 1 0 0 1\n",
      " 0 1 0 0 1 0 0 0 1 0 1 1 0 1 0 0 1 1 1 0 0 0 0 0 0 1 0 1 1 0 1 0 1 1 0 0 1\n",
      " 1 1 1 0 0 0 0 1 1 0 0 0 1 0 0 1 0 1 1 1 0 0 1 0 1 0 1 0 1 1 1 1 0 1 1 0 1\n",
      " 1 1 1 1 1 1 0 1 0 0 1 1 1 1 0 1 0 1 0 0 0 1 1 1 1 1 1 1 0 1 0 0 1 0 1]\n"
     ]
    }
   ],
   "source": [
    "predictions = clf.predict(X_test)\n",
    "print(predictions)"
   ]
  },
  {
   "cell_type": "code",
   "execution_count": 11,
   "metadata": {},
   "outputs": [
    {
     "name": "stdout",
     "output_type": "stream",
     "text": [
      "Decision Tree classification accuracy 0.7818181818181819\n"
     ]
    }
   ],
   "source": [
    "def accuracy(y_test, y_pred):\n",
    "    return np.sum(y_test == y_pred) / len(y_test)\n",
    "\n",
    "print(\"Decision Tree classification accuracy\", accuracy(Y_test, predictions))"
   ]
  },
  {
   "cell_type": "code",
   "execution_count": null,
   "metadata": {},
   "outputs": [],
   "source": []
  }
 ],
 "metadata": {
  "kernelspec": {
   "display_name": "base",
   "language": "python",
   "name": "python3"
  },
  "language_info": {
   "codemirror_mode": {
    "name": "ipython",
    "version": 3
   },
   "file_extension": ".py",
   "mimetype": "text/x-python",
   "name": "python",
   "nbconvert_exporter": "python",
   "pygments_lexer": "ipython3",
   "version": "3.9.12"
  }
 },
 "nbformat": 4,
 "nbformat_minor": 2
}
