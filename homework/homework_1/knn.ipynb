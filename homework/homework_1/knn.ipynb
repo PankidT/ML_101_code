{
 "cells": [
  {
   "cell_type": "code",
   "execution_count": 1,
   "metadata": {},
   "outputs": [],
   "source": [
    "import numpy as np"
   ]
  },
  {
   "cell_type": "code",
   "execution_count": null,
   "metadata": {},
   "outputs": [],
   "source": [
    "# Define a function to calculate the Euclidean distance between two data points\n",
    "def euclidean_distance(point1, point2):\n",
    "    distance = 0.0\n",
    "    for i in range(len(point1)):\n",
    "        distance += (point1[i] - point2[i]) ** 2\n",
    "    return np.sqrt(distance)\n",
    "\n",
    "# Define the K-NN training function\n",
    "def train_knn(X_train, y_train):\n",
    "    # Store the training data\n",
    "    global training_data\n",
    "    training_data = [(X_train[i], y_train[i]) for i in range(len(X_train))]\n",
    "\n",
    "# Define the K-NN prediction function\n",
    "def predict_knn(x, k):\n",
    "    # Find the k-nearest neighbors\n",
    "    neighbors = []\n",
    "    for data_point, label in training_data:\n",
    "        distance = euclidean_distance(x, data_point)\n",
    "        neighbors.append((data_point, label, distance))\n",
    "    \n",
    "    # Sort the neighbors by distance\n",
    "    neighbors.sort(key=lambda x: x[2])\n",
    "    \n",
    "    # Select the first k neighbors\n",
    "    k_nearest_neighbors = neighbors[:k]\n",
    "    \n",
    "    # Count the occurrences of each class among the k neighbors\n",
    "    class_votes = {}\n",
    "    for neighbor in k_nearest_neighbors:\n",
    "        _, label, _ = neighbor\n",
    "        if label in class_votes:\n",
    "            class_votes[label] += 1\n",
    "        else:\n",
    "            class_votes[label] = 1\n",
    "    \n",
    "    # Find the class with the most votes\n",
    "    predicted_class = max(class_votes, key=class_votes.get)\n",
    "    \n",
    "    return predicted_class\n",
    "\n",
    "# Example usage:\n",
    "X_train = [...]  # List of training data points\n",
    "y_train = [...]  # List of corresponding training labels\n",
    "x_test = [...]   # Single test data point to classify\n",
    "k = 3           # Number of neighbors to consider\n",
    "\n",
    "# Train the K-NN classifier\n",
    "train_knn(X_train, y_train)\n",
    "\n",
    "# Predict the class of the test data point\n",
    "predicted_class = predict_knn(x_test, k)\n",
    "print(f\"Predicted class: {predicted_class}\")\n"
   ]
  }
 ],
 "metadata": {
  "kernelspec": {
   "display_name": "base",
   "language": "python",
   "name": "python3"
  },
  "language_info": {
   "codemirror_mode": {
    "name": "ipython",
    "version": 3
   },
   "file_extension": ".py",
   "mimetype": "text/x-python",
   "name": "python",
   "nbconvert_exporter": "python",
   "pygments_lexer": "ipython3",
   "version": "3.9.12"
  },
  "orig_nbformat": 4
 },
 "nbformat": 4,
 "nbformat_minor": 2
}
