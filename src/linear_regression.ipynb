{
 "cells": [
  {
   "cell_type": "markdown",
   "metadata": {},
   "source": [
    "### Import dependencie packages"
   ]
  },
  {
   "cell_type": "code",
   "execution_count": null,
   "metadata": {},
   "outputs": [],
   "source": [
    "import numpy as np\n",
    "import matplotlib.pyplot as plt"
   ]
  },
  {
   "cell_type": "markdown",
   "metadata": {},
   "source": [
    "Mean squared error\n",
    "$$E = \\frac{1}{n}\\sum_{i=0}^{n}(y_{i}-\\hat{y})^2 $$\n",
    "$$E = \\frac{1}{n}\\sum_{i=0}^{n}(y_{i}-(m x_{i}+b))^2 $$"
   ]
  },
  {
   "cell_type": "markdown",
   "metadata": {},
   "source": [
    "### Generate datapoint"
   ]
  },
  {
   "cell_type": "code",
   "execution_count": 6,
   "metadata": {},
   "outputs": [
    {
     "data": {
      "image/png": "[encoded data removed]",
      "text/plain": [
       "<Figure size 432x288 with 1 Axes>"
      ]
     },
     "metadata": {
      "needs_background": "light"
     },
     "output_type": "display_data"
    }
   ],
   "source": [
    "# Set a random seed for reproducibility\n",
    "np.random.seed(0)\n",
    "\n",
    "# Generate random x values between 0 and 10\n",
    "x = np.random.uniform(0, 10, 100)\n",
    "\n",
    "# Generate random y values with some noise\n",
    "y = 2 * x + 1 + np.random.normal(0, 2, 100)\n",
    "\n",
    "# Plot the data\n",
    "plt.scatter(x, y)\n",
    "plt.show()\n"
   ]
  },
  {
   "cell_type": "code",
   "execution_count": 9,
   "metadata": {},
   "outputs": [],
   "source": [
    "def loss_function(m, b, x, y):\n",
    "    total_error = 0\n",
    "    # for point in points:\n",
    "    #     x = point[0]\n",
    "    #     y = point[1]\n",
    "    #     total_error += (y - (m * x + b)) ** 2        \n",
    "\n",
    "    for i in range(len(x)):\n",
    "        total_error += (y[i] - (m * x[i] + b)) ** 2\n",
    "\n",
    "\n",
    "    return total_error / len(points)\n",
    "\n",
    "loss_function()\n",
    "\n",
    "points = [\n",
    "    (0, 1),\n",
    "    (1, 3),\n",
    "    (2, 7),\n",
    "    (3, 13),\n",
    "    (4, 21),\n",
    "    (5, 31),\n",
    "    (6, 43),\n",
    "    (7, 57),\n",
    "    (8, 73),\n",
    "    (9, 91),\n",
    "    (10, 111)\n",
    "]\n",
    "\n",
    "x = []\n",
    "y = []\n",
    "\n",
    "def gradient_descent(m_now, b_now, x, y, learning_rate):\n",
    "    m_gradient = 0\n",
    "    b_gradient = 0\n",
    "    N = len(points)\n",
    "\n",
    "    # for point in points:\n",
    "    #     x = point[0]\n",
    "    #     y = point[1]\n",
    "    #     m_gradient += -(2 / N) * x * (y - (m_now * x + b_now))\n",
    "    #     b_gradient += -(2 / N) * (y - (m_now * x + b_now))\n",
    "\n",
    "    for i in range(len(x)):\n",
    "        m_gradient += -(2 / N) * x[i] * (y[i] - (m_now * x[i] + b_now))\n",
    "        b_gradient += -(2 / N) * (y[i] - (m_now * x[i] + b_now))\n",
    "\n",
    "    m_new = m_now - (learning_rate * m_gradient)\n",
    "    b_new = b_now - (learning_rate * b_gradient)\n",
    "\n",
    "    return m_new, b_new\n",
    "\n"
   ]
  },
  {
   "cell_type": "code",
   "execution_count": 11,
   "metadata": {},
   "outputs": [
    {
     "name": "stdout",
     "output_type": "stream",
     "text": [
      "Final values for m and b: 1.9882405151754736, 1.4388141093069782\n",
      "loss 3.969762760205648\n"
     ]
    },
    {
     "data": {
      "image/png": "[encoded data removed]",
      "text/plain": [
       "<Figure size 432x288 with 1 Axes>"
      ]
     },
     "metadata": {
      "needs_background": "light"
     },
     "output_type": "display_data"
    }
   ],
   "source": [
    "# Set initial values for slope and intercept\n",
    "m = 0\n",
    "b = 0\n",
    "learning_rate = 0.01\n",
    "num_iterations = 1000\n",
    "\n",
    "# Set the points\n",
    "points = np.array([[x[i], y[i]] for i in range(len(x))])\n",
    "\n",
    "# Run gradient descent\n",
    "for i in range(num_iterations):\n",
    "    m, b = gradient_descent(m, b, points, learning_rate)\n",
    "\n",
    "# Print the final values for m, b and the loss\n",
    "print(f'Final values for m and b: {m}, {b}')\n",
    "print(f'loss {loss_function(m, b, points)}')\n",
    "\n",
    "# Plot the data\n",
    "plt.scatter(x, y)\n",
    "# Plot the line\n",
    "y_predicted = [m * x[i] + b for i in range(len(x))]\n",
    "plt.plot(x, y_predicted, color='r')\n",
    "\n",
    "plt.show()"
   ]
  },
  {
   "cell_type": "code",
   "execution_count": 1,
   "metadata": {},
   "outputs": [],
   "source": [
    "def add(x, y):\n",
    "    return x + y"
   ]
  },
  {
   "cell_type": "code",
   "execution_count": 3,
   "metadata": {},
   "outputs": [],
   "source": [
    "x = add(1, 4)"
   ]
  },
  {
   "cell_type": "code",
   "execution_count": 4,
   "metadata": {},
   "outputs": [
    {
     "data": {
      "text/plain": [
       "5"
      ]
     },
     "execution_count": 4,
     "metadata": {},
     "output_type": "execute_result"
    }
   ],
   "source": [
    "x"
   ]
  },
  {
   "cell_type": "code",
   "execution_count": null,
   "metadata": {},
   "outputs": [],
   "source": [
    "m = 0\n",
    "b = 0\n",
    "learning_rate = 0.01\n",
    "\n",
    "a, b = gradient_descent(m, b, points, learning_rate)"
   ]
  }
 ],
 "metadata": {
  "kernelspec": {
   "display_name": "Python 3.9.7 ('base')",
   "language": "python",
   "name": "python3"
  },
  "language_info": {
   "codemirror_mode": {
    "name": "ipython",
    "version": 3
   },
   "file_extension": ".py",
   "mimetype": "text/x-python",
   "name": "python",
   "nbconvert_exporter": "python",
   "pygments_lexer": "ipython3",
   "version": "3.9.12"
  },
  "orig_nbformat": 4,
  "vscode": {
   "interpreter": {
    "hash": "6f5583cf1d9466b5c27e75c89cc6b383bed5736d6b16c51c8074d8690011a952"
   }
  }
 },
 "nbformat": 4,
 "nbformat_minor": 2
}
