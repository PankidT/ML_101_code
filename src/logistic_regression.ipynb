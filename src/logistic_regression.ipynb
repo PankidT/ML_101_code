{
 "cells": [
  {
   "cell_type": "code",
   "execution_count": 1,
   "metadata": {},
   "outputs": [],
   "source": [
    "import numpy as np\n",
    "import matplotlib.pyplot as plt\n",
    "import pandas as pd"
   ]
  },
  {
   "cell_type": "markdown",
   "metadata": {},
   "source": [
    "cross entropy loss function\n",
    "\\begin{equation}\n",
    "H(y, \\hat{y}) = \\frac{1}{N}\\sum_{i=1}^{n} [y_i \\log(\\hat{y}_i) + (1 - y_i) \\log(1 - \\hat{y}_i)]\n",
    "\\end{equation}\n",
    "\n",
    "Gradiant of loss compare to weight and bias\n",
    "\\begin{equation}\n",
    "\\frac{dH}{dw} = \\frac{1}{N}\\sum 2x_{i}(\\hat{y} - y_{i})\n",
    "\\end{equation}\n",
    "\n",
    "\\begin{equation}\n",
    "\\frac{dH}{db} = \\frac{1}{N}\\sum 2(\\hat{y} - y_{i})\n",
    "\\end{equation}"
   ]
  },
  {
   "cell_type": "code",
   "execution_count": 2,
   "metadata": {},
   "outputs": [
    {
     "data": {
      "text/html": [
       "<div>\n",
       "<style scoped>\n",
       "    .dataframe tbody tr th:only-of-type {\n",
       "        vertical-align: middle;\n",
       "    }\n",
       "\n",
       "    .dataframe tbody tr th {\n",
       "        vertical-align: top;\n",
       "    }\n",
       "\n",
       "    .dataframe thead th {\n",
       "        text-align: right;\n",
       "    }\n",
       "</style>\n",
       "<table border=\"1\" class=\"dataframe\">\n",
       "  <thead>\n",
       "    <tr style=\"text-align: right;\">\n",
       "      <th></th>\n",
       "      <th>X</th>\n",
       "      <th>Y</th>\n",
       "    </tr>\n",
       "  </thead>\n",
       "  <tbody>\n",
       "    <tr>\n",
       "      <th>0</th>\n",
       "      <td>-0.004281</td>\n",
       "      <td>0</td>\n",
       "    </tr>\n",
       "    <tr>\n",
       "      <th>1</th>\n",
       "      <td>4.027669</td>\n",
       "      <td>1</td>\n",
       "    </tr>\n",
       "    <tr>\n",
       "      <th>2</th>\n",
       "      <td>2.629073</td>\n",
       "      <td>1</td>\n",
       "    </tr>\n",
       "    <tr>\n",
       "      <th>3</th>\n",
       "      <td>0.781977</td>\n",
       "      <td>0</td>\n",
       "    </tr>\n",
       "    <tr>\n",
       "      <th>4</th>\n",
       "      <td>-1.707119</td>\n",
       "      <td>0</td>\n",
       "    </tr>\n",
       "    <tr>\n",
       "      <th>...</th>\n",
       "      <td>...</td>\n",
       "      <td>...</td>\n",
       "    </tr>\n",
       "    <tr>\n",
       "      <th>95</th>\n",
       "      <td>-2.842953</td>\n",
       "      <td>0</td>\n",
       "    </tr>\n",
       "    <tr>\n",
       "      <th>96</th>\n",
       "      <td>0.553580</td>\n",
       "      <td>0</td>\n",
       "    </tr>\n",
       "    <tr>\n",
       "      <th>97</th>\n",
       "      <td>0.736437</td>\n",
       "      <td>1</td>\n",
       "    </tr>\n",
       "    <tr>\n",
       "      <th>98</th>\n",
       "      <td>-1.730701</td>\n",
       "      <td>0</td>\n",
       "    </tr>\n",
       "    <tr>\n",
       "      <th>99</th>\n",
       "      <td>-1.383420</td>\n",
       "      <td>0</td>\n",
       "    </tr>\n",
       "  </tbody>\n",
       "</table>\n",
       "<p>100 rows × 2 columns</p>\n",
       "</div>"
      ],
      "text/plain": [
       "           X  Y\n",
       "0  -0.004281  0\n",
       "1   4.027669  1\n",
       "2   2.629073  1\n",
       "3   0.781977  0\n",
       "4  -1.707119  0\n",
       "..       ... ..\n",
       "95 -2.842953  0\n",
       "96  0.553580  0\n",
       "97  0.736437  1\n",
       "98 -1.730701  0\n",
       "99 -1.383420  0\n",
       "\n",
       "[100 rows x 2 columns]"
      ]
     },
     "execution_count": 2,
     "metadata": {},
     "output_type": "execute_result"
    }
   ],
   "source": [
    "np.random.seed(0)\n",
    "\n",
    "# Number of data points\n",
    "num_samples = 50\n",
    "\n",
    "# Generate random values for the feature X\n",
    "X_0 = np.random.uniform(-5, 1, num_samples)\n",
    "Y_0 = [0]*num_samples\n",
    "\n",
    "X_1 = np.random.uniform(-1, 5, num_samples)\n",
    "Y_1 = [1]*num_samples\n",
    "\n",
    "X = np.concatenate((X_0, X_1))\n",
    "Y = np.concatenate((Y_0, Y_1))\n",
    "\n",
    "# Shuffle the data\n",
    "indices = np.arange(len(X))\n",
    "np.random.shuffle(indices)\n",
    "X = X[indices]\n",
    "Y = Y[indices]\n",
    "\n",
    "# Create a DataFrame to store the data\n",
    "data = pd.DataFrame({'X': X, 'Y': Y})\n",
    "\n",
    "# Display the first few rows of the generated data\n",
    "data\n"
   ]
  },
  {
   "cell_type": "code",
   "execution_count": 27,
   "metadata": {},
   "outputs": [
    {
     "data": {
      "text/plain": [
       "(-0.1, 1.1)"
      ]
     },
     "execution_count": 27,
     "metadata": {},
     "output_type": "execute_result"
    },
    {
     "data": {
      "image/png": "[encoded data removed]",
      "text/plain": [
       "<Figure size 432x288 with 1 Axes>"
      ]
     },
     "metadata": {
      "needs_background": "light"
     },
     "output_type": "display_data"
    }
   ],
   "source": [
    "dum = np.linspace(-5, 5, 2)\n",
    "\n",
    "plt.plot(X, Y, 'o')\n",
    "# plt.plot(dum, 0.2*dum+0.5, 'r--')\n",
    "plt.ylim(-0.1, 1.1)"
   ]
  },
  {
   "cell_type": "code",
   "execution_count": 13,
   "metadata": {},
   "outputs": [],
   "source": [
    "def sigmoid(x):\n",
    "    return 1/(1+np.exp(-x))\n",
    "\n",
    "class LogisticRegression():\n",
    "\n",
    "    def __init__(self, lr=0.001, n_iters=1000):\n",
    "        self.lr = lr\n",
    "        self.n_iters = n_iters\n",
    "        self.weights = None\n",
    "        self.bias = None\n",
    "\n",
    "    def fit(self, X, y):\n",
    "        n_samples, n_features = X.shape\n",
    "        self.weights = np.zeros(n_features)\n",
    "        self.bias = 0\n",
    "\n",
    "        for _ in range(self.n_iters):\n",
    "            linear_pred = np.dot(X, self.weights) + self.bias\n",
    "            predictions = sigmoid(linear_pred)\n",
    "\n",
    "            dw = (1/n_samples) * np.dot(X.T, (predictions - y))\n",
    "            db = (1/n_samples) * np.sum(predictions-y)\n",
    "\n",
    "            self.weights = self.weights - self.lr*dw\n",
    "            self.bias = self.bias - self.lr*db\n",
    "\n",
    "\n",
    "    def predict(self, X):\n",
    "        linear_pred = np.dot(X, self.weights) + self.bias\n",
    "        y_pred = sigmoid(linear_pred)\n",
    "        class_pred = [0 if y<=0.5 else 1 for y in y_pred]\n",
    "        return class_pred"
   ]
  },
  {
   "cell_type": "code",
   "execution_count": 1,
   "metadata": {},
   "outputs": [
    {
     "ename": "NameError",
     "evalue": "name 'LogisticRegression' is not defined",
     "output_type": "error",
     "traceback": [
      "\u001b[0;31m---------------------------------------------------------------------------\u001b[0m",
      "\u001b[0;31mNameError\u001b[0m                                 Traceback (most recent call last)",
      "\u001b[1;32m/Users/poramat/Documents/Programming/Python_file/ML_101_code/src/logistic_regression.ipynb Cell 6\u001b[0m line \u001b[0;36m<cell line: 8>\u001b[0;34m()\u001b[0m\n\u001b[1;32m      <a href='vscode-notebook-cell:/Users/poramat/Documents/Programming/Python_file/ML_101_code/src/logistic_regression.ipynb#W5sZmlsZQ%3D%3D?line=4'>5</a>\u001b[0m X, y \u001b[39m=\u001b[39m bc\u001b[39m.\u001b[39mdata, bc\u001b[39m.\u001b[39mtarget\n\u001b[1;32m      <a href='vscode-notebook-cell:/Users/poramat/Documents/Programming/Python_file/ML_101_code/src/logistic_regression.ipynb#W5sZmlsZQ%3D%3D?line=5'>6</a>\u001b[0m X_train, X_test, y_train, y_test \u001b[39m=\u001b[39m train_test_split(X, y, test_size\u001b[39m=\u001b[39m\u001b[39m0.2\u001b[39m, random_state\u001b[39m=\u001b[39m\u001b[39m1234\u001b[39m)\n\u001b[0;32m----> <a href='vscode-notebook-cell:/Users/poramat/Documents/Programming/Python_file/ML_101_code/src/logistic_regression.ipynb#W5sZmlsZQ%3D%3D?line=7'>8</a>\u001b[0m clf \u001b[39m=\u001b[39m LogisticRegression(lr\u001b[39m=\u001b[39m\u001b[39m0.01\u001b[39m)\n\u001b[1;32m      <a href='vscode-notebook-cell:/Users/poramat/Documents/Programming/Python_file/ML_101_code/src/logistic_regression.ipynb#W5sZmlsZQ%3D%3D?line=8'>9</a>\u001b[0m clf\u001b[39m.\u001b[39mfit(X_train,y_train)\n\u001b[1;32m     <a href='vscode-notebook-cell:/Users/poramat/Documents/Programming/Python_file/ML_101_code/src/logistic_regression.ipynb#W5sZmlsZQ%3D%3D?line=9'>10</a>\u001b[0m y_pred \u001b[39m=\u001b[39m clf\u001b[39m.\u001b[39mpredict(X_test)\n",
      "\u001b[0;31mNameError\u001b[0m: name 'LogisticRegression' is not defined"
     ]
    }
   ],
   "source": [
    "from sklearn.model_selection import train_test_split\n",
    "from sklearn import datasets\n",
    "\n",
    "bc = datasets.load_breast_cancer()\n",
    "X, y = bc.data, bc.target\n",
    "X_train, X_test, y_train, y_test = train_test_split(X, y, test_size=0.2, random_state=1234)\n",
    "\n",
    "clf = LogisticRegression(lr=0.01)\n",
    "clf.fit(X_train,y_train)\n",
    "y_pred = clf.predict(X_test)"
   ]
  },
  {
   "cell_type": "code",
   "execution_count": 7,
   "metadata": {},
   "outputs": [
    {
     "name": "stdout",
     "output_type": "stream",
     "text": [
      "0.9210526315789473\n"
     ]
    }
   ],
   "source": [
    "def accuracy(y_pred, y_test):\n",
    "    return np.sum(y_pred==y_test)/len(y_test)\n",
    "\n",
    "acc = accuracy(y_pred, y_test)\n",
    "print(acc)"
   ]
  },
  {
   "cell_type": "code",
   "execution_count": 12,
   "metadata": {},
   "outputs": [
    {
     "ename": "ValueError",
     "evalue": "shapes (80,) and (1,) not aligned: 80 (dim 0) != 1 (dim 0)",
     "output_type": "error",
     "traceback": [
      "\u001b[0;31m---------------------------------------------------------------------------\u001b[0m",
      "\u001b[0;31mValueError\u001b[0m                                Traceback (most recent call last)",
      "\u001b[1;32m/Users/poramat/Documents/Programming/Python_file/ML_101_code/src/logistic_regression.ipynb Cell 8\u001b[0m in \u001b[0;36m<cell line: 27>\u001b[0;34m()\u001b[0m\n\u001b[1;32m     <a href='vscode-notebook-cell:/Users/poramat/Documents/Programming/Python_file/ML_101_code/src/logistic_regression.ipynb#X12sZmlsZQ%3D%3D?line=24'>25</a>\u001b[0m X_train, X_test, y_train, y_test \u001b[39m=\u001b[39m train_test_split(X, Y, test_size\u001b[39m=\u001b[39m\u001b[39m0.2\u001b[39m, random_state\u001b[39m=\u001b[39m\u001b[39m1234\u001b[39m)\n\u001b[1;32m     <a href='vscode-notebook-cell:/Users/poramat/Documents/Programming/Python_file/ML_101_code/src/logistic_regression.ipynb#X12sZmlsZQ%3D%3D?line=25'>26</a>\u001b[0m clf \u001b[39m=\u001b[39m LogisticRegression(lr\u001b[39m=\u001b[39m\u001b[39m0.01\u001b[39m)\n\u001b[0;32m---> <a href='vscode-notebook-cell:/Users/poramat/Documents/Programming/Python_file/ML_101_code/src/logistic_regression.ipynb#X12sZmlsZQ%3D%3D?line=26'>27</a>\u001b[0m clf\u001b[39m.\u001b[39;49mfit(X_train,y_train)\n\u001b[1;32m     <a href='vscode-notebook-cell:/Users/poramat/Documents/Programming/Python_file/ML_101_code/src/logistic_regression.ipynb#X12sZmlsZQ%3D%3D?line=27'>28</a>\u001b[0m y_pred \u001b[39m=\u001b[39m clf\u001b[39m.\u001b[39mpredict(X_test)\n",
      "\u001b[1;32m/Users/poramat/Documents/Programming/Python_file/ML_101_code/src/logistic_regression.ipynb Cell 8\u001b[0m in \u001b[0;36mLogisticRegression.fit\u001b[0;34m(self, X, y)\u001b[0m\n\u001b[1;32m     <a href='vscode-notebook-cell:/Users/poramat/Documents/Programming/Python_file/ML_101_code/src/logistic_regression.ipynb#X12sZmlsZQ%3D%3D?line=15'>16</a>\u001b[0m \u001b[39mself\u001b[39m\u001b[39m.\u001b[39mbias \u001b[39m=\u001b[39m \u001b[39m0\u001b[39m\n\u001b[1;32m     <a href='vscode-notebook-cell:/Users/poramat/Documents/Programming/Python_file/ML_101_code/src/logistic_regression.ipynb#X12sZmlsZQ%3D%3D?line=17'>18</a>\u001b[0m \u001b[39mfor\u001b[39;00m _ \u001b[39min\u001b[39;00m \u001b[39mrange\u001b[39m(\u001b[39mself\u001b[39m\u001b[39m.\u001b[39mn_iters):\n\u001b[0;32m---> <a href='vscode-notebook-cell:/Users/poramat/Documents/Programming/Python_file/ML_101_code/src/logistic_regression.ipynb#X12sZmlsZQ%3D%3D?line=18'>19</a>\u001b[0m     linear_pred \u001b[39m=\u001b[39m np\u001b[39m.\u001b[39;49mdot(X, \u001b[39mself\u001b[39;49m\u001b[39m.\u001b[39;49mweights) \u001b[39m+\u001b[39m \u001b[39mself\u001b[39m\u001b[39m.\u001b[39mbias\n\u001b[1;32m     <a href='vscode-notebook-cell:/Users/poramat/Documents/Programming/Python_file/ML_101_code/src/logistic_regression.ipynb#X12sZmlsZQ%3D%3D?line=19'>20</a>\u001b[0m     predictions \u001b[39m=\u001b[39m sigmoid(linear_pred)\n\u001b[1;32m     <a href='vscode-notebook-cell:/Users/poramat/Documents/Programming/Python_file/ML_101_code/src/logistic_regression.ipynb#X12sZmlsZQ%3D%3D?line=21'>22</a>\u001b[0m     dw \u001b[39m=\u001b[39m (\u001b[39m1\u001b[39m\u001b[39m/\u001b[39mn_samples) \u001b[39m*\u001b[39m np\u001b[39m.\u001b[39mdot(X\u001b[39m.\u001b[39mT, (predictions \u001b[39m-\u001b[39m y))\n",
      "File \u001b[0;32m<__array_function__ internals>:5\u001b[0m, in \u001b[0;36mdot\u001b[0;34m(*args, **kwargs)\u001b[0m\n",
      "\u001b[0;31mValueError\u001b[0m: shapes (80,) and (1,) not aligned: 80 (dim 0) != 1 (dim 0)"
     ]
    }
   ],
   "source": [
    "np.random.seed(0)\n",
    "\n",
    "# Number of data points\n",
    "num_samples = 50\n",
    "\n",
    "# Generate random values for the feature X\n",
    "X_0 = np.random.uniform(-5, 1, num_samples)\n",
    "Y_0 = [0]*num_samples\n",
    "\n",
    "X_1 = np.random.uniform(-1, 5, num_samples)\n",
    "Y_1 = [1]*num_samples\n",
    "\n",
    "X = np.concatenate((X_0, X_1))\n",
    "Y = np.concatenate((Y_0, Y_1))\n",
    "\n",
    "# Shuffle the data\n",
    "indices = np.arange(len(X))\n",
    "np.random.shuffle(indices)\n",
    "X = X[indices]\n",
    "Y = Y[indices]\n",
    "\n",
    "# Create a DataFrame to store the data\n",
    "data = pd.DataFrame({'X': X, 'Y': Y})\n",
    "\n",
    "X_train, X_test, y_train, y_test = train_test_split(X, Y, test_size=0.2, random_state=1234)\n",
    "clf = LogisticRegression(lr=0.01)\n",
    "clf.fit(X_train,y_train)\n",
    "y_pred = clf.predict(X_test)"
   ]
  },
  {
   "cell_type": "code",
   "execution_count": 10,
   "metadata": {},
   "outputs": [
    {
     "data": {
      "text/plain": [
       "(80,)"
      ]
     },
     "execution_count": 10,
     "metadata": {},
     "output_type": "execute_result"
    }
   ],
   "source": [
    "X_train.shape"
   ]
  },
  {
   "cell_type": "code",
   "execution_count": null,
   "metadata": {},
   "outputs": [],
   "source": []
  }
 ],
 "metadata": {
  "kernelspec": {
   "display_name": "Python 3",
   "language": "python",
   "name": "python3"
  },
  "language_info": {
   "codemirror_mode": {
    "name": "ipython",
    "version": 3
   },
   "file_extension": ".py",
   "mimetype": "text/x-python",
   "name": "python",
   "nbconvert_exporter": "python",
   "pygments_lexer": "ipython3",
   "version": "3.9.12"
  },
  "orig_nbformat": 4
 },
 "nbformat": 4,
 "nbformat_minor": 2
}
