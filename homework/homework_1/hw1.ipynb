{
 "cells": [
  {
   "cell_type": "code",
   "execution_count": 1,
   "metadata": {},
   "outputs": [],
   "source": [
    "import csv"
   ]
  },
  {
   "cell_type": "code",
   "execution_count": 3,
   "metadata": {},
   "outputs": [
    {
     "name": "stdout",
     "output_type": "stream",
     "text": [
      "X values: [0.0, 0.1, 0.25, 0.27, 0.51, 0.65, 0.73, 1.06, 1.33, 1.44, 1.47, 2.07, 2.07, 2.46, 2.5, 2.57, 2.68, 2.87, 2.95, 3.32, 3.39, 3.47, 3.5, 4.54, 4.72, 5.0, 5.57, 5.69, 5.7, 5.83, 6.35, 6.74, 6.74, 6.99, 7.14, 7.5, 7.93, 8.11, 8.12, 8.32, 8.63, 8.75, 8.75, 9.04, 9.42, 9.48, 9.52, 9.64, 9.75, 9.82, 10.0]\n",
      "Y values: [-0.12, 1.98, 2.19, -1.09, 2.29, -0.16, 1.48, 0.3, 1.97, 1.74, 1.0, 3.81, 4.87, 4.66, 2.72, 2.47, 3.99, 3.19, 5.32, 4.35, 5.55, 5.21, 5.34, 5.03, 5.75, 3.56, 3.62, 5.07, 2.87, 3.59, 1.5, -0.31, 2.36, 2.69, -1.3, 0.42, -0.85, -0.31, -1.31, 1.91, -0.64, 0.74, 1.77, 1.86, 4.25, 5.63, 5.68, 5.76, 7.34, 8.26, 11.77]\n"
     ]
    }
   ],
   "source": [
    "# Define empty lists to store the data\n",
    "X_values = []\n",
    "Y_values = []\n",
    "\n",
    "# Open the file\n",
    "with open('hw1_test_data.txt', 'r') as file:\n",
    "    # Create a CSV reader\n",
    "    csv_reader = csv.reader(file, delimiter=',')\n",
    "    \n",
    "    # Skip the header row (if it exists)\n",
    "    next(csv_reader, None)\n",
    "    \n",
    "    # Loop through the rows and extract X and Y values\n",
    "    for row in csv_reader:\n",
    "        if len(row) == 2:\n",
    "            X_values.append(float(row[0].strip()))\n",
    "            Y_values.append(float(row[1].strip()))\n",
    "\n",
    "# Now, X_values and Y_values contain your data\n",
    "print(\"X values:\", X_values)\n",
    "print(\"Y values:\", Y_values)\n"
   ]
  },
  {
   "cell_type": "code",
   "execution_count": 13,
   "metadata": {},
   "outputs": [
    {
     "name": "stdout",
     "output_type": "stream",
     "text": [
      "0 a\n",
      "1 b\n",
      "2 c\n",
      "3 d\n",
      "4 e\n"
     ]
    }
   ],
   "source": [
    "test = ['a', 'b', 'c', 'd', 'e']\n",
    "\n",
    "for index, element in enumerate(test):\n",
    "    print(index, element)"
   ]
  },
  {
   "cell_type": "code",
   "execution_count": 10,
   "metadata": {},
   "outputs": [
    {
     "name": "stdout",
     "output_type": "stream",
     "text": [
      "0\n",
      "1\n",
      "2\n",
      "3\n",
      "4\n"
     ]
    }
   ],
   "source": [
    "for i in range(5):\n",
    "    print(i)"
   ]
  },
  {
   "cell_type": "code",
   "execution_count": 11,
   "metadata": {},
   "outputs": [
    {
     "name": "stdout",
     "output_type": "stream",
     "text": [
      "a\n",
      "b\n",
      "c\n",
      "d\n",
      "e\n"
     ]
    }
   ],
   "source": [
    "test = ['a', 'b', 'c', 'd', 'e']\n",
    "\n",
    "for element in test:\n",
    "    print(element)"
   ]
  },
  {
   "cell_type": "markdown",
   "metadata": {},
   "source": [
    "1. loop company's list\n",
    "2. check element in each iteration\n",
    "3. check index for company a"
   ]
  },
  {
   "cell_type": "code",
   "execution_count": 9,
   "metadata": {},
   "outputs": [
    {
     "data": {
      "text/plain": [
       "'c'"
      ]
     },
     "execution_count": 9,
     "metadata": {},
     "output_type": "execute_result"
    }
   ],
   "source": [
    "test = ['a', 'b', 'c', 'd', 'e']\n",
    "test[2]"
   ]
  },
  {
   "cell_type": "code",
   "execution_count": 14,
   "metadata": {},
   "outputs": [
    {
     "name": "stdout",
     "output_type": "stream",
     "text": [
      "[1]\n"
     ]
    }
   ],
   "source": [
    "box = []\n",
    "\n",
    "box.append(1)\n",
    "\n",
    "print(box)"
   ]
  },
  {
   "cell_type": "code",
   "execution_count": null,
   "metadata": {},
   "outputs": [],
   "source": [
    "experince_A = []\n",
    "salary_A = []\n",
    "\n",
    "for i, company_name in enumerate(company):\n",
    "\n",
    "    if company_name == 'A':\n",
    "        \n",
    "        experince_A.append(experience_list[i])\n",
    "\n",
    "        experience_list[i]\n",
    "        salary[i]"
   ]
  }
 ],
 "metadata": {
  "kernelspec": {
   "display_name": "base",
   "language": "python",
   "name": "python3"
  },
  "language_info": {
   "codemirror_mode": {
    "name": "ipython",
    "version": 3
   },
   "file_extension": ".py",
   "mimetype": "text/x-python",
   "name": "python",
   "nbconvert_exporter": "python",
   "pygments_lexer": "ipython3",
   "version": "3.9.12"
  },
  "orig_nbformat": 4
 },
 "nbformat": 4,
 "nbformat_minor": 2
}
